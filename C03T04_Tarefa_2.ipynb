{
  "nbformat": 4,
  "nbformat_minor": 0,
  "metadata": {
    "colab": {
      "name": "C03T04 - Tarefa 2.ipynb",
      "provenance": [],
      "collapsed_sections": [],
      "authorship_tag": "ABX9TyMDOvvfj59duLtjDxcS/d4F",
      "include_colab_link": true
    },
    "kernelspec": {
      "name": "python3",
      "display_name": "Python 3"
    },
    "language_info": {
      "name": "python"
    }
  },
  "cells": [
    {
      "cell_type": "markdown",
      "metadata": {
        "id": "view-in-github",
        "colab_type": "text"
      },
      "source": [
        "<a href=\"https://colab.research.google.com/github/L-Brandao/C03T04---Tarefa2/blob/main/C03T04_Tarefa_2.ipynb\" target=\"_parent\"><img src=\"https://colab.research.google.com/assets/colab-badge.svg\" alt=\"Open In Colab\"/></a>"
      ]
    },
    {
      "cell_type": "markdown",
      "source": [
        "<h1 align=left><font size = 5, style=\"color:rgb(0,0,0)\"><b>Paradigmas de Linguagens de\n",
        "Programação para Ciência de Dados</b></font></h1> \n",
        "\n",
        "# 4 Estudos de Caso de Análise de Dados I - Tarefa\n",
        "Professores: *Diego Nogare* & *Rogério de Oliveira* \n",
        "\n",
        "**Lucas J. L. Brandão - 92211402**\n",
        "\n",
        "Fonte: https://www.gapminder.org/data/\n",
        "\n",
        "Tema: EDA Energia - Consumo e produção de petróleo"
      ],
      "metadata": {
        "id": "ag-s8SfEslXX"
      }
    },
    {
      "cell_type": "markdown",
      "source": [
        "#Elaboração\n",
        "\n",
        "Com a tecnologia e os avanços dos dias atuais cada vez mais rápidos o que mais iremos necessitar é de energia. Tema este que está em alta devido aos acontecimentos recentes (COVID-19 e mais recente a invação da Russia na Ucrânia). Eventos estes, que por sua vez, estão desencadeando uma série de efeitos colaterias na distibuição de energia.\n",
        "\n",
        "Está base infelizmente não tem dados atuais, porém é possível observar como o consumo de petróleo tende a crescer.\n",
        "\n",
        "Abaixo seguiremos com a analise EDA "
      ],
      "metadata": {
        "id": "xKs3V9NXt6in"
      }
    },
    {
      "cell_type": "markdown",
      "source": [
        "#Exploração"
      ],
      "metadata": {
        "id": "o2H4A_f0thdy"
      }
    },
    {
      "cell_type": "markdown",
      "source": [
        "##Importe das bibliotecas necessárias e das bases"
      ],
      "metadata": {
        "id": "U8X3mjEHv-S1"
      }
    },
    {
      "cell_type": "code",
      "execution_count": null,
      "metadata": {
        "id": "n2pRGy2SmLcL"
      },
      "outputs": [],
      "source": [
        "import numpy as np\n",
        "import pandas as pd\n",
        "import matplotlib.pyplot as plt\n",
        "%matplotlib inline\n",
        "import seaborn as sns\n",
        "import matplotlib.ticker as ticker\n",
        "\n",
        "prod_pet = pd.read_csv('https://raw.githubusercontent.com/L-Brandao/C03T04---Tarefa2/main/oil_production_total.csv')\n",
        "cons_pet = pd.read_csv('https://raw.githubusercontent.com/L-Brandao/C03T04---Tarefa2/main/oil_consumption_total.csv')"
      ]
    },
    {
      "cell_type": "markdown",
      "source": [
        "##Verificando a estrutura base e dados"
      ],
      "metadata": {
        "id": "sZDJfCQtwOD6"
      }
    },
    {
      "cell_type": "code",
      "source": [
        "display(prod_pet.shape)\n",
        "display(cons_pet.shape)"
      ],
      "metadata": {
        "colab": {
          "base_uri": "https://localhost:8080/",
          "height": 52
        },
        "id": "3-IYFY1VqUPq",
        "outputId": "e5bee706-4258-4410-eada-34b0165125b1"
      },
      "execution_count": null,
      "outputs": [
        {
          "output_type": "display_data",
          "data": {
            "text/plain": [
              "(50, 56)"
            ]
          },
          "metadata": {}
        },
        {
          "output_type": "display_data",
          "data": {
            "text/plain": [
              "(80, 56)"
            ]
          },
          "metadata": {}
        }
      ]
    },
    {
      "cell_type": "code",
      "source": [
        "display(prod_pet.head())\n",
        "display(cons_pet.head())"
      ],
      "metadata": {
        "colab": {
          "base_uri": "https://localhost:8080/",
          "height": 454
        },
        "id": "6kwfba-9PyAM",
        "outputId": "d35a7f7c-16c6-41fd-fb1d-07b2c6216352"
      },
      "execution_count": null,
      "outputs": [
        {
          "output_type": "display_data",
          "data": {
            "text/plain": [
              "                country   1964   1965   1966   1967   1968   1969   1970  \\\n",
              "0                Angola   655k   631k   537k   750k  2.46M  5.07M  5.72M   \n",
              "1  United Arab Emirates  13.7M  17.4M  18.5M  24.1M  30.4M  37.8M  51.3M   \n",
              "2             Argentina  13.8M  14.6M    16M  17.5M  18.1M    20M  21.6M   \n",
              "3             Australia   346k   445k  1.04M  1.93M  2.23M   8.7M  15.3M   \n",
              "4            Azerbaijan    NaN    NaN    NaN    NaN    NaN    NaN    NaN   \n",
              "\n",
              "    1971   1972  ...   2009   2010   2011   2012   2013   2014   2015   2016  \\\n",
              "0  7.06M  8.18M  ...  88.9M    82M  85.3M  85.2M  83.3M  88.2M  85.8M  81.6M   \n",
              "1  58.4M  74.2M  ...   135M   150M   156M   163M   163M   176M   182M   176M   \n",
              "2  22.2M  21.6M  ...  33.3M  31.2M  30.8M  30.2M  29.8M    30M  28.6M  27.2M   \n",
              "3  16.3M  20.4M  ...  24.5M  21.5M  21.4M  17.8M  19.1M    17M  15.6M  14.9M   \n",
              "4    NaN    NaN  ...  51.3M  46.1M  43.7M  43.8M  42.5M    42M  41.4M  39.1M   \n",
              "\n",
              "    2017   2018  \n",
              "0  74.1M  69.1M  \n",
              "1   177M   180M  \n",
              "2  27.5M  28.8M  \n",
              "3  15.2M  20.6M  \n",
              "4  39.2M  38.1M  \n",
              "\n",
              "[5 rows x 56 columns]"
            ],
            "text/html": [
              "\n",
              "  <div id=\"df-dabd30a6-3e12-4143-8f91-97f7cd8b86f1\">\n",
              "    <div class=\"colab-df-container\">\n",
              "      <div>\n",
              "<style scoped>\n",
              "    .dataframe tbody tr th:only-of-type {\n",
              "        vertical-align: middle;\n",
              "    }\n",
              "\n",
              "    .dataframe tbody tr th {\n",
              "        vertical-align: top;\n",
              "    }\n",
              "\n",
              "    .dataframe thead th {\n",
              "        text-align: right;\n",
              "    }\n",
              "</style>\n",
              "<table border=\"1\" class=\"dataframe\">\n",
              "  <thead>\n",
              "    <tr style=\"text-align: right;\">\n",
              "      <th></th>\n",
              "      <th>country</th>\n",
              "      <th>1964</th>\n",
              "      <th>1965</th>\n",
              "      <th>1966</th>\n",
              "      <th>1967</th>\n",
              "      <th>1968</th>\n",
              "      <th>1969</th>\n",
              "      <th>1970</th>\n",
              "      <th>1971</th>\n",
              "      <th>1972</th>\n",
              "      <th>...</th>\n",
              "      <th>2009</th>\n",
              "      <th>2010</th>\n",
              "      <th>2011</th>\n",
              "      <th>2012</th>\n",
              "      <th>2013</th>\n",
              "      <th>2014</th>\n",
              "      <th>2015</th>\n",
              "      <th>2016</th>\n",
              "      <th>2017</th>\n",
              "      <th>2018</th>\n",
              "    </tr>\n",
              "  </thead>\n",
              "  <tbody>\n",
              "    <tr>\n",
              "      <th>0</th>\n",
              "      <td>Angola</td>\n",
              "      <td>655k</td>\n",
              "      <td>631k</td>\n",
              "      <td>537k</td>\n",
              "      <td>750k</td>\n",
              "      <td>2.46M</td>\n",
              "      <td>5.07M</td>\n",
              "      <td>5.72M</td>\n",
              "      <td>7.06M</td>\n",
              "      <td>8.18M</td>\n",
              "      <td>...</td>\n",
              "      <td>88.9M</td>\n",
              "      <td>82M</td>\n",
              "      <td>85.3M</td>\n",
              "      <td>85.2M</td>\n",
              "      <td>83.3M</td>\n",
              "      <td>88.2M</td>\n",
              "      <td>85.8M</td>\n",
              "      <td>81.6M</td>\n",
              "      <td>74.1M</td>\n",
              "      <td>69.1M</td>\n",
              "    </tr>\n",
              "    <tr>\n",
              "      <th>1</th>\n",
              "      <td>United Arab Emirates</td>\n",
              "      <td>13.7M</td>\n",
              "      <td>17.4M</td>\n",
              "      <td>18.5M</td>\n",
              "      <td>24.1M</td>\n",
              "      <td>30.4M</td>\n",
              "      <td>37.8M</td>\n",
              "      <td>51.3M</td>\n",
              "      <td>58.4M</td>\n",
              "      <td>74.2M</td>\n",
              "      <td>...</td>\n",
              "      <td>135M</td>\n",
              "      <td>150M</td>\n",
              "      <td>156M</td>\n",
              "      <td>163M</td>\n",
              "      <td>163M</td>\n",
              "      <td>176M</td>\n",
              "      <td>182M</td>\n",
              "      <td>176M</td>\n",
              "      <td>177M</td>\n",
              "      <td>180M</td>\n",
              "    </tr>\n",
              "    <tr>\n",
              "      <th>2</th>\n",
              "      <td>Argentina</td>\n",
              "      <td>13.8M</td>\n",
              "      <td>14.6M</td>\n",
              "      <td>16M</td>\n",
              "      <td>17.5M</td>\n",
              "      <td>18.1M</td>\n",
              "      <td>20M</td>\n",
              "      <td>21.6M</td>\n",
              "      <td>22.2M</td>\n",
              "      <td>21.6M</td>\n",
              "      <td>...</td>\n",
              "      <td>33.3M</td>\n",
              "      <td>31.2M</td>\n",
              "      <td>30.8M</td>\n",
              "      <td>30.2M</td>\n",
              "      <td>29.8M</td>\n",
              "      <td>30M</td>\n",
              "      <td>28.6M</td>\n",
              "      <td>27.2M</td>\n",
              "      <td>27.5M</td>\n",
              "      <td>28.8M</td>\n",
              "    </tr>\n",
              "    <tr>\n",
              "      <th>3</th>\n",
              "      <td>Australia</td>\n",
              "      <td>346k</td>\n",
              "      <td>445k</td>\n",
              "      <td>1.04M</td>\n",
              "      <td>1.93M</td>\n",
              "      <td>2.23M</td>\n",
              "      <td>8.7M</td>\n",
              "      <td>15.3M</td>\n",
              "      <td>16.3M</td>\n",
              "      <td>20.4M</td>\n",
              "      <td>...</td>\n",
              "      <td>24.5M</td>\n",
              "      <td>21.5M</td>\n",
              "      <td>21.4M</td>\n",
              "      <td>17.8M</td>\n",
              "      <td>19.1M</td>\n",
              "      <td>17M</td>\n",
              "      <td>15.6M</td>\n",
              "      <td>14.9M</td>\n",
              "      <td>15.2M</td>\n",
              "      <td>20.6M</td>\n",
              "    </tr>\n",
              "    <tr>\n",
              "      <th>4</th>\n",
              "      <td>Azerbaijan</td>\n",
              "      <td>NaN</td>\n",
              "      <td>NaN</td>\n",
              "      <td>NaN</td>\n",
              "      <td>NaN</td>\n",
              "      <td>NaN</td>\n",
              "      <td>NaN</td>\n",
              "      <td>NaN</td>\n",
              "      <td>NaN</td>\n",
              "      <td>NaN</td>\n",
              "      <td>...</td>\n",
              "      <td>51.3M</td>\n",
              "      <td>46.1M</td>\n",
              "      <td>43.7M</td>\n",
              "      <td>43.8M</td>\n",
              "      <td>42.5M</td>\n",
              "      <td>42M</td>\n",
              "      <td>41.4M</td>\n",
              "      <td>39.1M</td>\n",
              "      <td>39.2M</td>\n",
              "      <td>38.1M</td>\n",
              "    </tr>\n",
              "  </tbody>\n",
              "</table>\n",
              "<p>5 rows × 56 columns</p>\n",
              "</div>\n",
              "      <button class=\"colab-df-convert\" onclick=\"convertToInteractive('df-dabd30a6-3e12-4143-8f91-97f7cd8b86f1')\"\n",
              "              title=\"Convert this dataframe to an interactive table.\"\n",
              "              style=\"display:none;\">\n",
              "        \n",
              "  <svg xmlns=\"http://www.w3.org/2000/svg\" height=\"24px\"viewBox=\"0 0 24 24\"\n",
              "       width=\"24px\">\n",
              "    <path d=\"M0 0h24v24H0V0z\" fill=\"none\"/>\n",
              "    <path d=\"M18.56 5.44l.94 2.06.94-2.06 2.06-.94-2.06-.94-.94-2.06-.94 2.06-2.06.94zm-11 1L8.5 8.5l.94-2.06 2.06-.94-2.06-.94L8.5 2.5l-.94 2.06-2.06.94zm10 10l.94 2.06.94-2.06 2.06-.94-2.06-.94-.94-2.06-.94 2.06-2.06.94z\"/><path d=\"M17.41 7.96l-1.37-1.37c-.4-.4-.92-.59-1.43-.59-.52 0-1.04.2-1.43.59L10.3 9.45l-7.72 7.72c-.78.78-.78 2.05 0 2.83L4 21.41c.39.39.9.59 1.41.59.51 0 1.02-.2 1.41-.59l7.78-7.78 2.81-2.81c.8-.78.8-2.07 0-2.86zM5.41 20L4 18.59l7.72-7.72 1.47 1.35L5.41 20z\"/>\n",
              "  </svg>\n",
              "      </button>\n",
              "      \n",
              "  <style>\n",
              "    .colab-df-container {\n",
              "      display:flex;\n",
              "      flex-wrap:wrap;\n",
              "      gap: 12px;\n",
              "    }\n",
              "\n",
              "    .colab-df-convert {\n",
              "      background-color: #E8F0FE;\n",
              "      border: none;\n",
              "      border-radius: 50%;\n",
              "      cursor: pointer;\n",
              "      display: none;\n",
              "      fill: #1967D2;\n",
              "      height: 32px;\n",
              "      padding: 0 0 0 0;\n",
              "      width: 32px;\n",
              "    }\n",
              "\n",
              "    .colab-df-convert:hover {\n",
              "      background-color: #E2EBFA;\n",
              "      box-shadow: 0px 1px 2px rgba(60, 64, 67, 0.3), 0px 1px 3px 1px rgba(60, 64, 67, 0.15);\n",
              "      fill: #174EA6;\n",
              "    }\n",
              "\n",
              "    [theme=dark] .colab-df-convert {\n",
              "      background-color: #3B4455;\n",
              "      fill: #D2E3FC;\n",
              "    }\n",
              "\n",
              "    [theme=dark] .colab-df-convert:hover {\n",
              "      background-color: #434B5C;\n",
              "      box-shadow: 0px 1px 3px 1px rgba(0, 0, 0, 0.15);\n",
              "      filter: drop-shadow(0px 1px 2px rgba(0, 0, 0, 0.3));\n",
              "      fill: #FFFFFF;\n",
              "    }\n",
              "  </style>\n",
              "\n",
              "      <script>\n",
              "        const buttonEl =\n",
              "          document.querySelector('#df-dabd30a6-3e12-4143-8f91-97f7cd8b86f1 button.colab-df-convert');\n",
              "        buttonEl.style.display =\n",
              "          google.colab.kernel.accessAllowed ? 'block' : 'none';\n",
              "\n",
              "        async function convertToInteractive(key) {\n",
              "          const element = document.querySelector('#df-dabd30a6-3e12-4143-8f91-97f7cd8b86f1');\n",
              "          const dataTable =\n",
              "            await google.colab.kernel.invokeFunction('convertToInteractive',\n",
              "                                                     [key], {});\n",
              "          if (!dataTable) return;\n",
              "\n",
              "          const docLinkHtml = 'Like what you see? Visit the ' +\n",
              "            '<a target=\"_blank\" href=https://colab.research.google.com/notebooks/data_table.ipynb>data table notebook</a>'\n",
              "            + ' to learn more about interactive tables.';\n",
              "          element.innerHTML = '';\n",
              "          dataTable['output_type'] = 'display_data';\n",
              "          await google.colab.output.renderOutput(dataTable, element);\n",
              "          const docLink = document.createElement('div');\n",
              "          docLink.innerHTML = docLinkHtml;\n",
              "          element.appendChild(docLink);\n",
              "        }\n",
              "      </script>\n",
              "    </div>\n",
              "  </div>\n",
              "  "
            ]
          },
          "metadata": {}
        },
        {
          "output_type": "display_data",
          "data": {
            "text/plain": [
              "                country   1964   1965   1966   1967   1968   1969   1970  \\\n",
              "0  United Arab Emirates  69.6k  74.3k  79.8k  89.1k    99k   115k   136k   \n",
              "1             Argentina    22M  22.8M  23.3M  23.8M  24.7M  22.1M  23.6M   \n",
              "2             Australia  15.1M    18M  19.7M  21.5M  22.1M  24.4M  25.7M   \n",
              "3               Austria  5.56M  6.12M  6.51M  7.54M  8.28M   9.1M  10.2M   \n",
              "4            Azerbaijan    NaN    NaN    NaN    NaN    NaN    NaN    NaN   \n",
              "\n",
              "    1971   1972  ...   2009   2010   2011   2012   2013   2014   2015   2016  \\\n",
              "0   179k   280k  ...  31.3M  33.8M  35.2M    39M  39.3M  42.2M  44.9M  44.2M   \n",
              "1  23.6M  23.7M  ...  27.5M  27.4M  28.6M  30.7M  30.1M  30.9M  30.2M  29.4M   \n",
              "2  26.1M  27.9M  ...  41.6M  44.4M  46.1M  46.9M  47.4M  45.6M    46M  48.1M   \n",
              "3    11M  11.9M  ...  12.7M  11.9M  11.9M  12.2M  11.7M  11.7M  12.1M  12.3M   \n",
              "4    NaN    NaN  ...  3.26M  3.99M  4.17M  4.54M  4.45M  4.54M  4.52M  4.56M   \n",
              "\n",
              "    2017   2018  \n",
              "0    46M  44.6M  \n",
              "1  28.1M  27.6M  \n",
              "2  49.5M  49.1M  \n",
              "3  12.4M  12.7M  \n",
              "4  4.78M  4.93M  \n",
              "\n",
              "[5 rows x 56 columns]"
            ],
            "text/html": [
              "\n",
              "  <div id=\"df-fa1fc82e-4979-4dc7-8866-a01f90f2f4ad\">\n",
              "    <div class=\"colab-df-container\">\n",
              "      <div>\n",
              "<style scoped>\n",
              "    .dataframe tbody tr th:only-of-type {\n",
              "        vertical-align: middle;\n",
              "    }\n",
              "\n",
              "    .dataframe tbody tr th {\n",
              "        vertical-align: top;\n",
              "    }\n",
              "\n",
              "    .dataframe thead th {\n",
              "        text-align: right;\n",
              "    }\n",
              "</style>\n",
              "<table border=\"1\" class=\"dataframe\">\n",
              "  <thead>\n",
              "    <tr style=\"text-align: right;\">\n",
              "      <th></th>\n",
              "      <th>country</th>\n",
              "      <th>1964</th>\n",
              "      <th>1965</th>\n",
              "      <th>1966</th>\n",
              "      <th>1967</th>\n",
              "      <th>1968</th>\n",
              "      <th>1969</th>\n",
              "      <th>1970</th>\n",
              "      <th>1971</th>\n",
              "      <th>1972</th>\n",
              "      <th>...</th>\n",
              "      <th>2009</th>\n",
              "      <th>2010</th>\n",
              "      <th>2011</th>\n",
              "      <th>2012</th>\n",
              "      <th>2013</th>\n",
              "      <th>2014</th>\n",
              "      <th>2015</th>\n",
              "      <th>2016</th>\n",
              "      <th>2017</th>\n",
              "      <th>2018</th>\n",
              "    </tr>\n",
              "  </thead>\n",
              "  <tbody>\n",
              "    <tr>\n",
              "      <th>0</th>\n",
              "      <td>United Arab Emirates</td>\n",
              "      <td>69.6k</td>\n",
              "      <td>74.3k</td>\n",
              "      <td>79.8k</td>\n",
              "      <td>89.1k</td>\n",
              "      <td>99k</td>\n",
              "      <td>115k</td>\n",
              "      <td>136k</td>\n",
              "      <td>179k</td>\n",
              "      <td>280k</td>\n",
              "      <td>...</td>\n",
              "      <td>31.3M</td>\n",
              "      <td>33.8M</td>\n",
              "      <td>35.2M</td>\n",
              "      <td>39M</td>\n",
              "      <td>39.3M</td>\n",
              "      <td>42.2M</td>\n",
              "      <td>44.9M</td>\n",
              "      <td>44.2M</td>\n",
              "      <td>46M</td>\n",
              "      <td>44.6M</td>\n",
              "    </tr>\n",
              "    <tr>\n",
              "      <th>1</th>\n",
              "      <td>Argentina</td>\n",
              "      <td>22M</td>\n",
              "      <td>22.8M</td>\n",
              "      <td>23.3M</td>\n",
              "      <td>23.8M</td>\n",
              "      <td>24.7M</td>\n",
              "      <td>22.1M</td>\n",
              "      <td>23.6M</td>\n",
              "      <td>23.6M</td>\n",
              "      <td>23.7M</td>\n",
              "      <td>...</td>\n",
              "      <td>27.5M</td>\n",
              "      <td>27.4M</td>\n",
              "      <td>28.6M</td>\n",
              "      <td>30.7M</td>\n",
              "      <td>30.1M</td>\n",
              "      <td>30.9M</td>\n",
              "      <td>30.2M</td>\n",
              "      <td>29.4M</td>\n",
              "      <td>28.1M</td>\n",
              "      <td>27.6M</td>\n",
              "    </tr>\n",
              "    <tr>\n",
              "      <th>2</th>\n",
              "      <td>Australia</td>\n",
              "      <td>15.1M</td>\n",
              "      <td>18M</td>\n",
              "      <td>19.7M</td>\n",
              "      <td>21.5M</td>\n",
              "      <td>22.1M</td>\n",
              "      <td>24.4M</td>\n",
              "      <td>25.7M</td>\n",
              "      <td>26.1M</td>\n",
              "      <td>27.9M</td>\n",
              "      <td>...</td>\n",
              "      <td>41.6M</td>\n",
              "      <td>44.4M</td>\n",
              "      <td>46.1M</td>\n",
              "      <td>46.9M</td>\n",
              "      <td>47.4M</td>\n",
              "      <td>45.6M</td>\n",
              "      <td>46M</td>\n",
              "      <td>48.1M</td>\n",
              "      <td>49.5M</td>\n",
              "      <td>49.1M</td>\n",
              "    </tr>\n",
              "    <tr>\n",
              "      <th>3</th>\n",
              "      <td>Austria</td>\n",
              "      <td>5.56M</td>\n",
              "      <td>6.12M</td>\n",
              "      <td>6.51M</td>\n",
              "      <td>7.54M</td>\n",
              "      <td>8.28M</td>\n",
              "      <td>9.1M</td>\n",
              "      <td>10.2M</td>\n",
              "      <td>11M</td>\n",
              "      <td>11.9M</td>\n",
              "      <td>...</td>\n",
              "      <td>12.7M</td>\n",
              "      <td>11.9M</td>\n",
              "      <td>11.9M</td>\n",
              "      <td>12.2M</td>\n",
              "      <td>11.7M</td>\n",
              "      <td>11.7M</td>\n",
              "      <td>12.1M</td>\n",
              "      <td>12.3M</td>\n",
              "      <td>12.4M</td>\n",
              "      <td>12.7M</td>\n",
              "    </tr>\n",
              "    <tr>\n",
              "      <th>4</th>\n",
              "      <td>Azerbaijan</td>\n",
              "      <td>NaN</td>\n",
              "      <td>NaN</td>\n",
              "      <td>NaN</td>\n",
              "      <td>NaN</td>\n",
              "      <td>NaN</td>\n",
              "      <td>NaN</td>\n",
              "      <td>NaN</td>\n",
              "      <td>NaN</td>\n",
              "      <td>NaN</td>\n",
              "      <td>...</td>\n",
              "      <td>3.26M</td>\n",
              "      <td>3.99M</td>\n",
              "      <td>4.17M</td>\n",
              "      <td>4.54M</td>\n",
              "      <td>4.45M</td>\n",
              "      <td>4.54M</td>\n",
              "      <td>4.52M</td>\n",
              "      <td>4.56M</td>\n",
              "      <td>4.78M</td>\n",
              "      <td>4.93M</td>\n",
              "    </tr>\n",
              "  </tbody>\n",
              "</table>\n",
              "<p>5 rows × 56 columns</p>\n",
              "</div>\n",
              "      <button class=\"colab-df-convert\" onclick=\"convertToInteractive('df-fa1fc82e-4979-4dc7-8866-a01f90f2f4ad')\"\n",
              "              title=\"Convert this dataframe to an interactive table.\"\n",
              "              style=\"display:none;\">\n",
              "        \n",
              "  <svg xmlns=\"http://www.w3.org/2000/svg\" height=\"24px\"viewBox=\"0 0 24 24\"\n",
              "       width=\"24px\">\n",
              "    <path d=\"M0 0h24v24H0V0z\" fill=\"none\"/>\n",
              "    <path d=\"M18.56 5.44l.94 2.06.94-2.06 2.06-.94-2.06-.94-.94-2.06-.94 2.06-2.06.94zm-11 1L8.5 8.5l.94-2.06 2.06-.94-2.06-.94L8.5 2.5l-.94 2.06-2.06.94zm10 10l.94 2.06.94-2.06 2.06-.94-2.06-.94-.94-2.06-.94 2.06-2.06.94z\"/><path d=\"M17.41 7.96l-1.37-1.37c-.4-.4-.92-.59-1.43-.59-.52 0-1.04.2-1.43.59L10.3 9.45l-7.72 7.72c-.78.78-.78 2.05 0 2.83L4 21.41c.39.39.9.59 1.41.59.51 0 1.02-.2 1.41-.59l7.78-7.78 2.81-2.81c.8-.78.8-2.07 0-2.86zM5.41 20L4 18.59l7.72-7.72 1.47 1.35L5.41 20z\"/>\n",
              "  </svg>\n",
              "      </button>\n",
              "      \n",
              "  <style>\n",
              "    .colab-df-container {\n",
              "      display:flex;\n",
              "      flex-wrap:wrap;\n",
              "      gap: 12px;\n",
              "    }\n",
              "\n",
              "    .colab-df-convert {\n",
              "      background-color: #E8F0FE;\n",
              "      border: none;\n",
              "      border-radius: 50%;\n",
              "      cursor: pointer;\n",
              "      display: none;\n",
              "      fill: #1967D2;\n",
              "      height: 32px;\n",
              "      padding: 0 0 0 0;\n",
              "      width: 32px;\n",
              "    }\n",
              "\n",
              "    .colab-df-convert:hover {\n",
              "      background-color: #E2EBFA;\n",
              "      box-shadow: 0px 1px 2px rgba(60, 64, 67, 0.3), 0px 1px 3px 1px rgba(60, 64, 67, 0.15);\n",
              "      fill: #174EA6;\n",
              "    }\n",
              "\n",
              "    [theme=dark] .colab-df-convert {\n",
              "      background-color: #3B4455;\n",
              "      fill: #D2E3FC;\n",
              "    }\n",
              "\n",
              "    [theme=dark] .colab-df-convert:hover {\n",
              "      background-color: #434B5C;\n",
              "      box-shadow: 0px 1px 3px 1px rgba(0, 0, 0, 0.15);\n",
              "      filter: drop-shadow(0px 1px 2px rgba(0, 0, 0, 0.3));\n",
              "      fill: #FFFFFF;\n",
              "    }\n",
              "  </style>\n",
              "\n",
              "      <script>\n",
              "        const buttonEl =\n",
              "          document.querySelector('#df-fa1fc82e-4979-4dc7-8866-a01f90f2f4ad button.colab-df-convert');\n",
              "        buttonEl.style.display =\n",
              "          google.colab.kernel.accessAllowed ? 'block' : 'none';\n",
              "\n",
              "        async function convertToInteractive(key) {\n",
              "          const element = document.querySelector('#df-fa1fc82e-4979-4dc7-8866-a01f90f2f4ad');\n",
              "          const dataTable =\n",
              "            await google.colab.kernel.invokeFunction('convertToInteractive',\n",
              "                                                     [key], {});\n",
              "          if (!dataTable) return;\n",
              "\n",
              "          const docLinkHtml = 'Like what you see? Visit the ' +\n",
              "            '<a target=\"_blank\" href=https://colab.research.google.com/notebooks/data_table.ipynb>data table notebook</a>'\n",
              "            + ' to learn more about interactive tables.';\n",
              "          element.innerHTML = '';\n",
              "          dataTable['output_type'] = 'display_data';\n",
              "          await google.colab.output.renderOutput(dataTable, element);\n",
              "          const docLink = document.createElement('div');\n",
              "          docLink.innerHTML = docLinkHtml;\n",
              "          element.appendChild(docLink);\n",
              "        }\n",
              "      </script>\n",
              "    </div>\n",
              "  </div>\n",
              "  "
            ]
          },
          "metadata": {}
        }
      ]
    },
    {
      "cell_type": "markdown",
      "source": [
        "##Reshape e merge\n",
        "\n",
        "Como pode ser notado acima, a base possui o período distribuído pelas colunas o que dificultará a analise. Logo, realisei o reshape nas duas tabelas através do melt para transpo-las as linhas e em seguida utilizei o merge para a união das duas bases que agora possuiam a mesma estrutura."
      ],
      "metadata": {
        "id": "P1bmuaHgwkQ3"
      }
    },
    {
      "cell_type": "code",
      "source": [
        "prod_pet_melt = prod_pet.melt(id_vars=['country'], value_vars=prod_pet.drop('country',axis='columns').columns, var_name = 'Ano', value_name = 'Prod_Petroleo')\n",
        "cons_pet_melt = cons_pet.melt(id_vars=['country'], value_vars=cons_pet.drop('country',axis='columns').columns, var_name = 'Ano', value_name = 'Cons_Petroleo')\n",
        "\n",
        "petroleo_bruta = pd.merge(prod_pet_melt,cons_pet_melt, how = 'outer')\n",
        "\n",
        "petroleo_bruta.head()"
      ],
      "metadata": {
        "colab": {
          "base_uri": "https://localhost:8080/",
          "height": 206
        },
        "id": "fiA7Qvmmrfu4",
        "outputId": "fe436805-2575-455c-d40c-f11bceea805a"
      },
      "execution_count": null,
      "outputs": [
        {
          "output_type": "execute_result",
          "data": {
            "text/plain": [
              "                country   Ano Prod_Petroleo Cons_Petroleo\n",
              "0                Angola  1964          655k           NaN\n",
              "1  United Arab Emirates  1964         13.7M         69.6k\n",
              "2             Argentina  1964         13.8M           22M\n",
              "3             Australia  1964          346k         15.1M\n",
              "4            Azerbaijan  1964           NaN           NaN"
            ],
            "text/html": [
              "\n",
              "  <div id=\"df-8b2766c1-d735-4287-acf4-1551a4b0a46f\">\n",
              "    <div class=\"colab-df-container\">\n",
              "      <div>\n",
              "<style scoped>\n",
              "    .dataframe tbody tr th:only-of-type {\n",
              "        vertical-align: middle;\n",
              "    }\n",
              "\n",
              "    .dataframe tbody tr th {\n",
              "        vertical-align: top;\n",
              "    }\n",
              "\n",
              "    .dataframe thead th {\n",
              "        text-align: right;\n",
              "    }\n",
              "</style>\n",
              "<table border=\"1\" class=\"dataframe\">\n",
              "  <thead>\n",
              "    <tr style=\"text-align: right;\">\n",
              "      <th></th>\n",
              "      <th>country</th>\n",
              "      <th>Ano</th>\n",
              "      <th>Prod_Petroleo</th>\n",
              "      <th>Cons_Petroleo</th>\n",
              "    </tr>\n",
              "  </thead>\n",
              "  <tbody>\n",
              "    <tr>\n",
              "      <th>0</th>\n",
              "      <td>Angola</td>\n",
              "      <td>1964</td>\n",
              "      <td>655k</td>\n",
              "      <td>NaN</td>\n",
              "    </tr>\n",
              "    <tr>\n",
              "      <th>1</th>\n",
              "      <td>United Arab Emirates</td>\n",
              "      <td>1964</td>\n",
              "      <td>13.7M</td>\n",
              "      <td>69.6k</td>\n",
              "    </tr>\n",
              "    <tr>\n",
              "      <th>2</th>\n",
              "      <td>Argentina</td>\n",
              "      <td>1964</td>\n",
              "      <td>13.8M</td>\n",
              "      <td>22M</td>\n",
              "    </tr>\n",
              "    <tr>\n",
              "      <th>3</th>\n",
              "      <td>Australia</td>\n",
              "      <td>1964</td>\n",
              "      <td>346k</td>\n",
              "      <td>15.1M</td>\n",
              "    </tr>\n",
              "    <tr>\n",
              "      <th>4</th>\n",
              "      <td>Azerbaijan</td>\n",
              "      <td>1964</td>\n",
              "      <td>NaN</td>\n",
              "      <td>NaN</td>\n",
              "    </tr>\n",
              "  </tbody>\n",
              "</table>\n",
              "</div>\n",
              "      <button class=\"colab-df-convert\" onclick=\"convertToInteractive('df-8b2766c1-d735-4287-acf4-1551a4b0a46f')\"\n",
              "              title=\"Convert this dataframe to an interactive table.\"\n",
              "              style=\"display:none;\">\n",
              "        \n",
              "  <svg xmlns=\"http://www.w3.org/2000/svg\" height=\"24px\"viewBox=\"0 0 24 24\"\n",
              "       width=\"24px\">\n",
              "    <path d=\"M0 0h24v24H0V0z\" fill=\"none\"/>\n",
              "    <path d=\"M18.56 5.44l.94 2.06.94-2.06 2.06-.94-2.06-.94-.94-2.06-.94 2.06-2.06.94zm-11 1L8.5 8.5l.94-2.06 2.06-.94-2.06-.94L8.5 2.5l-.94 2.06-2.06.94zm10 10l.94 2.06.94-2.06 2.06-.94-2.06-.94-.94-2.06-.94 2.06-2.06.94z\"/><path d=\"M17.41 7.96l-1.37-1.37c-.4-.4-.92-.59-1.43-.59-.52 0-1.04.2-1.43.59L10.3 9.45l-7.72 7.72c-.78.78-.78 2.05 0 2.83L4 21.41c.39.39.9.59 1.41.59.51 0 1.02-.2 1.41-.59l7.78-7.78 2.81-2.81c.8-.78.8-2.07 0-2.86zM5.41 20L4 18.59l7.72-7.72 1.47 1.35L5.41 20z\"/>\n",
              "  </svg>\n",
              "      </button>\n",
              "      \n",
              "  <style>\n",
              "    .colab-df-container {\n",
              "      display:flex;\n",
              "      flex-wrap:wrap;\n",
              "      gap: 12px;\n",
              "    }\n",
              "\n",
              "    .colab-df-convert {\n",
              "      background-color: #E8F0FE;\n",
              "      border: none;\n",
              "      border-radius: 50%;\n",
              "      cursor: pointer;\n",
              "      display: none;\n",
              "      fill: #1967D2;\n",
              "      height: 32px;\n",
              "      padding: 0 0 0 0;\n",
              "      width: 32px;\n",
              "    }\n",
              "\n",
              "    .colab-df-convert:hover {\n",
              "      background-color: #E2EBFA;\n",
              "      box-shadow: 0px 1px 2px rgba(60, 64, 67, 0.3), 0px 1px 3px 1px rgba(60, 64, 67, 0.15);\n",
              "      fill: #174EA6;\n",
              "    }\n",
              "\n",
              "    [theme=dark] .colab-df-convert {\n",
              "      background-color: #3B4455;\n",
              "      fill: #D2E3FC;\n",
              "    }\n",
              "\n",
              "    [theme=dark] .colab-df-convert:hover {\n",
              "      background-color: #434B5C;\n",
              "      box-shadow: 0px 1px 3px 1px rgba(0, 0, 0, 0.15);\n",
              "      filter: drop-shadow(0px 1px 2px rgba(0, 0, 0, 0.3));\n",
              "      fill: #FFFFFF;\n",
              "    }\n",
              "  </style>\n",
              "\n",
              "      <script>\n",
              "        const buttonEl =\n",
              "          document.querySelector('#df-8b2766c1-d735-4287-acf4-1551a4b0a46f button.colab-df-convert');\n",
              "        buttonEl.style.display =\n",
              "          google.colab.kernel.accessAllowed ? 'block' : 'none';\n",
              "\n",
              "        async function convertToInteractive(key) {\n",
              "          const element = document.querySelector('#df-8b2766c1-d735-4287-acf4-1551a4b0a46f');\n",
              "          const dataTable =\n",
              "            await google.colab.kernel.invokeFunction('convertToInteractive',\n",
              "                                                     [key], {});\n",
              "          if (!dataTable) return;\n",
              "\n",
              "          const docLinkHtml = 'Like what you see? Visit the ' +\n",
              "            '<a target=\"_blank\" href=https://colab.research.google.com/notebooks/data_table.ipynb>data table notebook</a>'\n",
              "            + ' to learn more about interactive tables.';\n",
              "          element.innerHTML = '';\n",
              "          dataTable['output_type'] = 'display_data';\n",
              "          await google.colab.output.renderOutput(dataTable, element);\n",
              "          const docLink = document.createElement('div');\n",
              "          docLink.innerHTML = docLinkHtml;\n",
              "          element.appendChild(docLink);\n",
              "        }\n",
              "      </script>\n",
              "    </div>\n",
              "  </div>\n",
              "  "
            ]
          },
          "metadata": {},
          "execution_count": 686
        }
      ]
    },
    {
      "cell_type": "markdown",
      "source": [
        "##Adequando dados divergentes\n",
        "\n",
        "Nas colunas de valores ha dois padrões fora do modelo numérico, a letra 'k' simbolizando milhar e a letra 'M' para abreviar os resultados acima de 1 milhão.\n",
        "\n",
        "Utilizei o método contains para a busca do caracter e split para a retirada da letra, logo após multipliquei pelo respectivo significado.\n"
      ],
      "metadata": {
        "id": "mv3BFD7DxY4G"
      }
    },
    {
      "cell_type": "code",
      "source": [
        "# Prod_Petroleo\n",
        "k = petroleo_bruta[petroleo_bruta['Prod_Petroleo'].str.contains('k', na=False)].Prod_Petroleo.str.split('k').str[0].astype(float) * 1000\n",
        "petroleo_bruta.update(k)\n",
        "M = petroleo_bruta[petroleo_bruta['Prod_Petroleo'].str.contains('M', na=False)].Prod_Petroleo.str.split('M').str[0].astype(float) * 1000000\n",
        "petroleo_bruta.update(M)\n",
        "\n",
        "# Cons_Petroleo\n",
        "k = petroleo_bruta[petroleo_bruta['Cons_Petroleo'].str.contains('k', na=False)].Cons_Petroleo.str.split('k').str[0].astype(float) * 1000\n",
        "petroleo_bruta.update(k)\n",
        "M = petroleo_bruta[petroleo_bruta['Cons_Petroleo'].str.contains('M', na=False)].Cons_Petroleo.str.split('M').str[0].astype(float) * 1000000\n",
        "petroleo_bruta.update(M)\n",
        "\n",
        "display(petroleo_bruta)"
      ],
      "metadata": {
        "colab": {
          "base_uri": "https://localhost:8080/",
          "height": 424
        },
        "id": "_YyLlH9k0w9V",
        "outputId": "b3b832cf-7334-42e1-847f-b10c9a1e6d3c"
      },
      "execution_count": null,
      "outputs": [
        {
          "output_type": "display_data",
          "data": {
            "text/plain": [
              "                   country   Ano Prod_Petroleo Cons_Petroleo\n",
              "0                   Angola  1964      655000.0           NaN\n",
              "1     United Arab Emirates  1964    13700000.0       69600.0\n",
              "2                Argentina  1964    13800000.0    22000000.0\n",
              "3                Australia  1964      346000.0    15100000.0\n",
              "4               Azerbaijan  1964           NaN           NaN\n",
              "...                    ...   ...           ...           ...\n",
              "5110                Sweden  2018           NaN    13300000.0\n",
              "5111                Turkey  2018           NaN    47900000.0\n",
              "5112                Taiwan  2018           NaN    44100000.0\n",
              "5113               Ukraine  2018           NaN    10100000.0\n",
              "5114          South Africa  2018           NaN    27200000.0\n",
              "\n",
              "[5115 rows x 4 columns]"
            ],
            "text/html": [
              "\n",
              "  <div id=\"df-38348ac4-3d68-44c4-b647-643202a75996\">\n",
              "    <div class=\"colab-df-container\">\n",
              "      <div>\n",
              "<style scoped>\n",
              "    .dataframe tbody tr th:only-of-type {\n",
              "        vertical-align: middle;\n",
              "    }\n",
              "\n",
              "    .dataframe tbody tr th {\n",
              "        vertical-align: top;\n",
              "    }\n",
              "\n",
              "    .dataframe thead th {\n",
              "        text-align: right;\n",
              "    }\n",
              "</style>\n",
              "<table border=\"1\" class=\"dataframe\">\n",
              "  <thead>\n",
              "    <tr style=\"text-align: right;\">\n",
              "      <th></th>\n",
              "      <th>country</th>\n",
              "      <th>Ano</th>\n",
              "      <th>Prod_Petroleo</th>\n",
              "      <th>Cons_Petroleo</th>\n",
              "    </tr>\n",
              "  </thead>\n",
              "  <tbody>\n",
              "    <tr>\n",
              "      <th>0</th>\n",
              "      <td>Angola</td>\n",
              "      <td>1964</td>\n",
              "      <td>655000.0</td>\n",
              "      <td>NaN</td>\n",
              "    </tr>\n",
              "    <tr>\n",
              "      <th>1</th>\n",
              "      <td>United Arab Emirates</td>\n",
              "      <td>1964</td>\n",
              "      <td>13700000.0</td>\n",
              "      <td>69600.0</td>\n",
              "    </tr>\n",
              "    <tr>\n",
              "      <th>2</th>\n",
              "      <td>Argentina</td>\n",
              "      <td>1964</td>\n",
              "      <td>13800000.0</td>\n",
              "      <td>22000000.0</td>\n",
              "    </tr>\n",
              "    <tr>\n",
              "      <th>3</th>\n",
              "      <td>Australia</td>\n",
              "      <td>1964</td>\n",
              "      <td>346000.0</td>\n",
              "      <td>15100000.0</td>\n",
              "    </tr>\n",
              "    <tr>\n",
              "      <th>4</th>\n",
              "      <td>Azerbaijan</td>\n",
              "      <td>1964</td>\n",
              "      <td>NaN</td>\n",
              "      <td>NaN</td>\n",
              "    </tr>\n",
              "    <tr>\n",
              "      <th>...</th>\n",
              "      <td>...</td>\n",
              "      <td>...</td>\n",
              "      <td>...</td>\n",
              "      <td>...</td>\n",
              "    </tr>\n",
              "    <tr>\n",
              "      <th>5110</th>\n",
              "      <td>Sweden</td>\n",
              "      <td>2018</td>\n",
              "      <td>NaN</td>\n",
              "      <td>13300000.0</td>\n",
              "    </tr>\n",
              "    <tr>\n",
              "      <th>5111</th>\n",
              "      <td>Turkey</td>\n",
              "      <td>2018</td>\n",
              "      <td>NaN</td>\n",
              "      <td>47900000.0</td>\n",
              "    </tr>\n",
              "    <tr>\n",
              "      <th>5112</th>\n",
              "      <td>Taiwan</td>\n",
              "      <td>2018</td>\n",
              "      <td>NaN</td>\n",
              "      <td>44100000.0</td>\n",
              "    </tr>\n",
              "    <tr>\n",
              "      <th>5113</th>\n",
              "      <td>Ukraine</td>\n",
              "      <td>2018</td>\n",
              "      <td>NaN</td>\n",
              "      <td>10100000.0</td>\n",
              "    </tr>\n",
              "    <tr>\n",
              "      <th>5114</th>\n",
              "      <td>South Africa</td>\n",
              "      <td>2018</td>\n",
              "      <td>NaN</td>\n",
              "      <td>27200000.0</td>\n",
              "    </tr>\n",
              "  </tbody>\n",
              "</table>\n",
              "<p>5115 rows × 4 columns</p>\n",
              "</div>\n",
              "      <button class=\"colab-df-convert\" onclick=\"convertToInteractive('df-38348ac4-3d68-44c4-b647-643202a75996')\"\n",
              "              title=\"Convert this dataframe to an interactive table.\"\n",
              "              style=\"display:none;\">\n",
              "        \n",
              "  <svg xmlns=\"http://www.w3.org/2000/svg\" height=\"24px\"viewBox=\"0 0 24 24\"\n",
              "       width=\"24px\">\n",
              "    <path d=\"M0 0h24v24H0V0z\" fill=\"none\"/>\n",
              "    <path d=\"M18.56 5.44l.94 2.06.94-2.06 2.06-.94-2.06-.94-.94-2.06-.94 2.06-2.06.94zm-11 1L8.5 8.5l.94-2.06 2.06-.94-2.06-.94L8.5 2.5l-.94 2.06-2.06.94zm10 10l.94 2.06.94-2.06 2.06-.94-2.06-.94-.94-2.06-.94 2.06-2.06.94z\"/><path d=\"M17.41 7.96l-1.37-1.37c-.4-.4-.92-.59-1.43-.59-.52 0-1.04.2-1.43.59L10.3 9.45l-7.72 7.72c-.78.78-.78 2.05 0 2.83L4 21.41c.39.39.9.59 1.41.59.51 0 1.02-.2 1.41-.59l7.78-7.78 2.81-2.81c.8-.78.8-2.07 0-2.86zM5.41 20L4 18.59l7.72-7.72 1.47 1.35L5.41 20z\"/>\n",
              "  </svg>\n",
              "      </button>\n",
              "      \n",
              "  <style>\n",
              "    .colab-df-container {\n",
              "      display:flex;\n",
              "      flex-wrap:wrap;\n",
              "      gap: 12px;\n",
              "    }\n",
              "\n",
              "    .colab-df-convert {\n",
              "      background-color: #E8F0FE;\n",
              "      border: none;\n",
              "      border-radius: 50%;\n",
              "      cursor: pointer;\n",
              "      display: none;\n",
              "      fill: #1967D2;\n",
              "      height: 32px;\n",
              "      padding: 0 0 0 0;\n",
              "      width: 32px;\n",
              "    }\n",
              "\n",
              "    .colab-df-convert:hover {\n",
              "      background-color: #E2EBFA;\n",
              "      box-shadow: 0px 1px 2px rgba(60, 64, 67, 0.3), 0px 1px 3px 1px rgba(60, 64, 67, 0.15);\n",
              "      fill: #174EA6;\n",
              "    }\n",
              "\n",
              "    [theme=dark] .colab-df-convert {\n",
              "      background-color: #3B4455;\n",
              "      fill: #D2E3FC;\n",
              "    }\n",
              "\n",
              "    [theme=dark] .colab-df-convert:hover {\n",
              "      background-color: #434B5C;\n",
              "      box-shadow: 0px 1px 3px 1px rgba(0, 0, 0, 0.15);\n",
              "      filter: drop-shadow(0px 1px 2px rgba(0, 0, 0, 0.3));\n",
              "      fill: #FFFFFF;\n",
              "    }\n",
              "  </style>\n",
              "\n",
              "      <script>\n",
              "        const buttonEl =\n",
              "          document.querySelector('#df-38348ac4-3d68-44c4-b647-643202a75996 button.colab-df-convert');\n",
              "        buttonEl.style.display =\n",
              "          google.colab.kernel.accessAllowed ? 'block' : 'none';\n",
              "\n",
              "        async function convertToInteractive(key) {\n",
              "          const element = document.querySelector('#df-38348ac4-3d68-44c4-b647-643202a75996');\n",
              "          const dataTable =\n",
              "            await google.colab.kernel.invokeFunction('convertToInteractive',\n",
              "                                                     [key], {});\n",
              "          if (!dataTable) return;\n",
              "\n",
              "          const docLinkHtml = 'Like what you see? Visit the ' +\n",
              "            '<a target=\"_blank\" href=https://colab.research.google.com/notebooks/data_table.ipynb>data table notebook</a>'\n",
              "            + ' to learn more about interactive tables.';\n",
              "          element.innerHTML = '';\n",
              "          dataTable['output_type'] = 'display_data';\n",
              "          await google.colab.output.renderOutput(dataTable, element);\n",
              "          const docLink = document.createElement('div');\n",
              "          docLink.innerHTML = docLinkHtml;\n",
              "          element.appendChild(docLink);\n",
              "        }\n",
              "      </script>\n",
              "    </div>\n",
              "  </div>\n",
              "  "
            ]
          },
          "metadata": {}
        }
      ]
    },
    {
      "cell_type": "markdown",
      "source": [
        "## Ajuste de tipo de dado\n",
        "\n",
        "Após ajustado as divergências, corrigi os tipos de atributos das colunas"
      ],
      "metadata": {
        "id": "YP_PYikTzE2k"
      }
    },
    {
      "cell_type": "code",
      "source": [
        "petroleo_bruta.dtypes"
      ],
      "metadata": {
        "colab": {
          "base_uri": "https://localhost:8080/"
        },
        "id": "Y32dLa_oOZJz",
        "outputId": "c60b4c17-a4c7-4d54-d0c3-f3036d268efa"
      },
      "execution_count": null,
      "outputs": [
        {
          "output_type": "execute_result",
          "data": {
            "text/plain": [
              "country          object\n",
              "Ano              object\n",
              "Prod_Petroleo    object\n",
              "Cons_Petroleo    object\n",
              "dtype: object"
            ]
          },
          "metadata": {},
          "execution_count": 688
        }
      ]
    },
    {
      "cell_type": "code",
      "source": [
        "petroleo = petroleo_bruta\n",
        "\n",
        "petroleo.Ano = petroleo_bruta.Ano.astype(int)\n",
        "petroleo.Prod_Petroleo = petroleo_bruta.Prod_Petroleo.astype(float)\n",
        "petroleo.Cons_Petroleo = petroleo_bruta.Cons_Petroleo.astype(float)\n",
        "\n",
        "petroleo_bruta.dtypes"
      ],
      "metadata": {
        "colab": {
          "base_uri": "https://localhost:8080/"
        },
        "id": "z6F_mqI0Potx",
        "outputId": "d202b831-3206-43e5-c679-309b11748c8c"
      },
      "execution_count": null,
      "outputs": [
        {
          "output_type": "execute_result",
          "data": {
            "text/plain": [
              "country           object\n",
              "Ano                int64\n",
              "Prod_Petroleo    float64\n",
              "Cons_Petroleo    float64\n",
              "dtype: object"
            ]
          },
          "metadata": {},
          "execution_count": 689
        }
      ]
    },
    {
      "cell_type": "markdown",
      "source": [
        "#Analise de nulos e primeiras estatísticas \n",
        "\n",
        "Abaixo podemos notar que há um grande percentual de nulos, tando para produção quando consumo, o que causará numa diminuíção considerável dos dados."
      ],
      "metadata": {
        "id": "T6Ccn8cBzbtS"
      }
    },
    {
      "cell_type": "code",
      "source": [
        "display(petroleo.isnull().sum()/len(petroleo))"
      ],
      "metadata": {
        "colab": {
          "base_uri": "https://localhost:8080/",
          "height": 104
        },
        "id": "stQS_zHmVaqi",
        "outputId": "a40d3df7-f297-410b-94b8-4b9e21e2bc5c"
      },
      "execution_count": null,
      "outputs": [
        {
          "output_type": "display_data",
          "data": {
            "text/plain": [
              "country          0.000000\n",
              "Ano              0.000000\n",
              "Prod_Petroleo    0.530987\n",
              "Cons_Petroleo    0.201564\n",
              "dtype: float64"
            ]
          },
          "metadata": {}
        }
      ]
    },
    {
      "cell_type": "markdown",
      "source": [
        ""
      ],
      "metadata": {
        "id": "64WE1a1v0aT9"
      }
    },
    {
      "cell_type": "markdown",
      "source": [
        "##Filtrando dados"
      ],
      "metadata": {
        "id": "soppMesW1_WZ"
      }
    },
    {
      "cell_type": "code",
      "source": [
        "petroleo = petroleo[~ petroleo.Cons_Petroleo.isnull() & ~ petroleo.Prod_Petroleo.isnull()]"
      ],
      "metadata": {
        "id": "P6AVHTJQvHsC"
      },
      "execution_count": null,
      "outputs": []
    },
    {
      "cell_type": "code",
      "source": [
        "display(petroleo.Ano.agg(['max','min']))\n",
        "display(petroleo.describe())"
      ],
      "metadata": {
        "colab": {
          "base_uri": "https://localhost:8080/",
          "height": 352
        },
        "id": "D5mN82JXoEuk",
        "outputId": "84e80d8a-b20e-423b-e114-41a898bbc6c0"
      },
      "execution_count": null,
      "outputs": [
        {
          "output_type": "display_data",
          "data": {
            "text/plain": [
              "max    2018\n",
              "min    1964\n",
              "Name: Ano, dtype: int64"
            ]
          },
          "metadata": {}
        },
        {
          "output_type": "display_data",
          "data": {
            "text/plain": [
              "               Ano  Prod_Petroleo  Cons_Petroleo\n",
              "count  1847.000000   1.847000e+03   1.847000e+03\n",
              "mean   1992.322685   8.855165e+07   6.372582e+07\n",
              "std      15.546834   1.260995e+08   1.441605e+08\n",
              "min    1964.000000   4.780000e+04   4.700000e+04\n",
              "25%    1979.000000   1.185000e+07   7.505000e+06\n",
              "50%    1993.000000   3.630000e+07   1.930000e+07\n",
              "75%    2006.000000   1.140000e+08   6.155000e+07\n",
              "max    2018.000000   7.470000e+08   9.270000e+08"
            ],
            "text/html": [
              "\n",
              "  <div id=\"df-3b9c9ab2-db21-4590-89ae-de8159be58e7\">\n",
              "    <div class=\"colab-df-container\">\n",
              "      <div>\n",
              "<style scoped>\n",
              "    .dataframe tbody tr th:only-of-type {\n",
              "        vertical-align: middle;\n",
              "    }\n",
              "\n",
              "    .dataframe tbody tr th {\n",
              "        vertical-align: top;\n",
              "    }\n",
              "\n",
              "    .dataframe thead th {\n",
              "        text-align: right;\n",
              "    }\n",
              "</style>\n",
              "<table border=\"1\" class=\"dataframe\">\n",
              "  <thead>\n",
              "    <tr style=\"text-align: right;\">\n",
              "      <th></th>\n",
              "      <th>Ano</th>\n",
              "      <th>Prod_Petroleo</th>\n",
              "      <th>Cons_Petroleo</th>\n",
              "    </tr>\n",
              "  </thead>\n",
              "  <tbody>\n",
              "    <tr>\n",
              "      <th>count</th>\n",
              "      <td>1847.000000</td>\n",
              "      <td>1.847000e+03</td>\n",
              "      <td>1.847000e+03</td>\n",
              "    </tr>\n",
              "    <tr>\n",
              "      <th>mean</th>\n",
              "      <td>1992.322685</td>\n",
              "      <td>8.855165e+07</td>\n",
              "      <td>6.372582e+07</td>\n",
              "    </tr>\n",
              "    <tr>\n",
              "      <th>std</th>\n",
              "      <td>15.546834</td>\n",
              "      <td>1.260995e+08</td>\n",
              "      <td>1.441605e+08</td>\n",
              "    </tr>\n",
              "    <tr>\n",
              "      <th>min</th>\n",
              "      <td>1964.000000</td>\n",
              "      <td>4.780000e+04</td>\n",
              "      <td>4.700000e+04</td>\n",
              "    </tr>\n",
              "    <tr>\n",
              "      <th>25%</th>\n",
              "      <td>1979.000000</td>\n",
              "      <td>1.185000e+07</td>\n",
              "      <td>7.505000e+06</td>\n",
              "    </tr>\n",
              "    <tr>\n",
              "      <th>50%</th>\n",
              "      <td>1993.000000</td>\n",
              "      <td>3.630000e+07</td>\n",
              "      <td>1.930000e+07</td>\n",
              "    </tr>\n",
              "    <tr>\n",
              "      <th>75%</th>\n",
              "      <td>2006.000000</td>\n",
              "      <td>1.140000e+08</td>\n",
              "      <td>6.155000e+07</td>\n",
              "    </tr>\n",
              "    <tr>\n",
              "      <th>max</th>\n",
              "      <td>2018.000000</td>\n",
              "      <td>7.470000e+08</td>\n",
              "      <td>9.270000e+08</td>\n",
              "    </tr>\n",
              "  </tbody>\n",
              "</table>\n",
              "</div>\n",
              "      <button class=\"colab-df-convert\" onclick=\"convertToInteractive('df-3b9c9ab2-db21-4590-89ae-de8159be58e7')\"\n",
              "              title=\"Convert this dataframe to an interactive table.\"\n",
              "              style=\"display:none;\">\n",
              "        \n",
              "  <svg xmlns=\"http://www.w3.org/2000/svg\" height=\"24px\"viewBox=\"0 0 24 24\"\n",
              "       width=\"24px\">\n",
              "    <path d=\"M0 0h24v24H0V0z\" fill=\"none\"/>\n",
              "    <path d=\"M18.56 5.44l.94 2.06.94-2.06 2.06-.94-2.06-.94-.94-2.06-.94 2.06-2.06.94zm-11 1L8.5 8.5l.94-2.06 2.06-.94-2.06-.94L8.5 2.5l-.94 2.06-2.06.94zm10 10l.94 2.06.94-2.06 2.06-.94-2.06-.94-.94-2.06-.94 2.06-2.06.94z\"/><path d=\"M17.41 7.96l-1.37-1.37c-.4-.4-.92-.59-1.43-.59-.52 0-1.04.2-1.43.59L10.3 9.45l-7.72 7.72c-.78.78-.78 2.05 0 2.83L4 21.41c.39.39.9.59 1.41.59.51 0 1.02-.2 1.41-.59l7.78-7.78 2.81-2.81c.8-.78.8-2.07 0-2.86zM5.41 20L4 18.59l7.72-7.72 1.47 1.35L5.41 20z\"/>\n",
              "  </svg>\n",
              "      </button>\n",
              "      \n",
              "  <style>\n",
              "    .colab-df-container {\n",
              "      display:flex;\n",
              "      flex-wrap:wrap;\n",
              "      gap: 12px;\n",
              "    }\n",
              "\n",
              "    .colab-df-convert {\n",
              "      background-color: #E8F0FE;\n",
              "      border: none;\n",
              "      border-radius: 50%;\n",
              "      cursor: pointer;\n",
              "      display: none;\n",
              "      fill: #1967D2;\n",
              "      height: 32px;\n",
              "      padding: 0 0 0 0;\n",
              "      width: 32px;\n",
              "    }\n",
              "\n",
              "    .colab-df-convert:hover {\n",
              "      background-color: #E2EBFA;\n",
              "      box-shadow: 0px 1px 2px rgba(60, 64, 67, 0.3), 0px 1px 3px 1px rgba(60, 64, 67, 0.15);\n",
              "      fill: #174EA6;\n",
              "    }\n",
              "\n",
              "    [theme=dark] .colab-df-convert {\n",
              "      background-color: #3B4455;\n",
              "      fill: #D2E3FC;\n",
              "    }\n",
              "\n",
              "    [theme=dark] .colab-df-convert:hover {\n",
              "      background-color: #434B5C;\n",
              "      box-shadow: 0px 1px 3px 1px rgba(0, 0, 0, 0.15);\n",
              "      filter: drop-shadow(0px 1px 2px rgba(0, 0, 0, 0.3));\n",
              "      fill: #FFFFFF;\n",
              "    }\n",
              "  </style>\n",
              "\n",
              "      <script>\n",
              "        const buttonEl =\n",
              "          document.querySelector('#df-3b9c9ab2-db21-4590-89ae-de8159be58e7 button.colab-df-convert');\n",
              "        buttonEl.style.display =\n",
              "          google.colab.kernel.accessAllowed ? 'block' : 'none';\n",
              "\n",
              "        async function convertToInteractive(key) {\n",
              "          const element = document.querySelector('#df-3b9c9ab2-db21-4590-89ae-de8159be58e7');\n",
              "          const dataTable =\n",
              "            await google.colab.kernel.invokeFunction('convertToInteractive',\n",
              "                                                     [key], {});\n",
              "          if (!dataTable) return;\n",
              "\n",
              "          const docLinkHtml = 'Like what you see? Visit the ' +\n",
              "            '<a target=\"_blank\" href=https://colab.research.google.com/notebooks/data_table.ipynb>data table notebook</a>'\n",
              "            + ' to learn more about interactive tables.';\n",
              "          element.innerHTML = '';\n",
              "          dataTable['output_type'] = 'display_data';\n",
              "          await google.colab.output.renderOutput(dataTable, element);\n",
              "          const docLink = document.createElement('div');\n",
              "          docLink.innerHTML = docLinkHtml;\n",
              "          element.appendChild(docLink);\n",
              "        }\n",
              "      </script>\n",
              "    </div>\n",
              "  </div>\n",
              "  "
            ]
          },
          "metadata": {}
        }
      ]
    },
    {
      "cell_type": "markdown",
      "source": [
        "#Questões"
      ],
      "metadata": {
        "id": "O4TPZa-qzos-"
      }
    },
    {
      "cell_type": "markdown",
      "source": [
        "##Qual a tendência no consumo de petróleo?"
      ],
      "metadata": {
        "id": "nmqd6YIS28MK"
      }
    },
    {
      "cell_type": "code",
      "source": [
        ""
      ],
      "metadata": {
        "id": "-CrLXmhxBUgE"
      },
      "execution_count": null,
      "outputs": []
    },
    {
      "cell_type": "code",
      "source": [
        "pet_ano = pd.DataFrame(petroleo.groupby('Ano').sum()[['Cons_Petroleo']]).reset_index()\n",
        "\n",
        "fig, ax = plt.subplots(figsize=(12,4))\n",
        "\n",
        "ax.plot(pet_ano.Ano, pet_ano.Cons_Petroleo, label = 'Consumo')\n",
        "\n",
        "ax.set_title('Tendência do consumo de petróleo?', fontsize=14, weight='bold')\n",
        "ax.set_xlabel('Ano')\n",
        "ax.set_ylabel('Litros (Trilhões)')\n",
        "\n",
        "z = np.polyfit(pet_ano.Ano, pet_ano.Cons_Petroleo, 1)\n",
        "p = np.poly1d(z)\n",
        "ax.plot(pet_ano.Ano, p(pet_ano.Ano), linestyle=':', label='Linear(x)', linewidth=2, color='red', alpha=0.7)\n",
        "\n",
        "\n",
        "ax.legend()\n",
        "\n",
        "#ax.xaxis.set_major_locator(ticker.MaxNLocator(13))\n",
        "\n",
        "plt.show()"
      ],
      "metadata": {
        "colab": {
          "base_uri": "https://localhost:8080/",
          "height": 297
        },
        "id": "qvb8ak7UtPv4",
        "outputId": "e411dca2-709c-4eab-9492-9e76e44d6969"
      },
      "execution_count": null,
      "outputs": [
        {
          "output_type": "display_data",
          "data": {
            "text/plain": [
              "<Figure size 864x288 with 1 Axes>"
            ],
            "image/png": "[encoded data removed]"
          },
          "metadata": {
            "needs_background": "light"
          }
        }
      ]
    },
    {
      "cell_type": "markdown",
      "source": [
        "Conclusão: Notamos que o consumo saiu de abaixo de 1.5 Tri de litros na decada de 60 para mais de 3 Tri atualmente. Segundo uma tendência de crescimento."
      ],
      "metadata": {
        "id": "UPQ_0Jjf5xOm"
      }
    },
    {
      "cell_type": "markdown",
      "source": [
        "## Quais são os paises com maior consumo de petróleo? E qual a sua produção?"
      ],
      "metadata": {
        "id": "-LnwxJ6A6XHP"
      }
    },
    {
      "cell_type": "code",
      "source": [
        "pet_country = pd.DataFrame(petroleo.groupby('country').sum()[['Cons_Petroleo','Prod_Petroleo']]).reset_index()\n",
        "pet_country = pet_country.loc[pet_country.Cons_Petroleo.nlargest(10).index][['Cons_Petroleo','Prod_Petroleo','country']]\n",
        "\n",
        "dist = 0.35\n",
        "\n",
        "bar1 = pet_country.Cons_Petroleo\n",
        "bar2 = pet_country.Prod_Petroleo\n",
        "\n",
        "x1 = np.arange(len(bar1))\n",
        "x2 = [x + dist for x in x1]\n",
        "\n",
        "fig, ax = plt.subplots(figsize=(12,4))\n",
        "\n",
        "ax.set_title('Top 10 consumidores x produtores', fontsize=14, weight='bold')\n",
        "ax.set_xlabel('Pais')\n",
        "ax.set_ylabel('Litros (M)')\n",
        "\n",
        "plt.bar(x1,bar1, label = 'Consumo', width = dist, alpha = 0.7)\n",
        "plt.bar(x2,bar2, label = 'Produção', width = dist, alpha = 0.7)\n",
        "\n",
        "plt.xlabel\n",
        "plt.xticks([i + dist for i in range(len(bar1))], pet_country.country)\n",
        "plt.xticks(rotation=45)\n",
        "plt.legend()\n",
        "\n",
        "plt.show()"
      ],
      "metadata": {
        "colab": {
          "base_uri": "https://localhost:8080/",
          "height": 350
        },
        "id": "VCkYo_IE9a_k",
        "outputId": "419a6103-34ca-46da-b4f6-94baa672d58e"
      },
      "execution_count": null,
      "outputs": [
        {
          "output_type": "display_data",
          "data": {
            "text/plain": [
              "<Figure size 864x288 with 1 Axes>"
            ],
            "image/png": "[encoded data removed]"
          },
          "metadata": {
            "needs_background": "light"
          }
        }
      ]
    },
    {
      "cell_type": "markdown",
      "source": [
        "Conclusão: Como há de se esperar, uma das maiores podência mundial (Estados Unidos) é facil de se notar no consumo do petróleo. O que chama atenção é que ele também é o maior produto no acumulado da base."
      ],
      "metadata": {
        "id": "lULjCzzy6q6F"
      }
    },
    {
      "cell_type": "markdown",
      "source": [
        "##Qual a relação entre o consumo e a produção? Os Maiores consumidores são os maiores produtores também?\n"
      ],
      "metadata": {
        "id": "MKakrubZ86cO"
      }
    },
    {
      "cell_type": "code",
      "source": [
        "np.array(pet_country.loc[pet_country.Cons_Petroleo.nlargest(10).index]['country'])"
      ],
      "metadata": {
        "colab": {
          "base_uri": "https://localhost:8080/"
        },
        "id": "clczczmOYA_E",
        "outputId": "83668769-82a1-4907-95a5-d096c013650f"
      },
      "execution_count": null,
      "outputs": [
        {
          "output_type": "execute_result",
          "data": {
            "text/plain": [
              "array(['United States', 'China', 'USSR', 'Russia', 'India', 'Canada',\n",
              "       'Italy', 'United Kingdom', 'Saudi Arabia', 'Brazil'], dtype=object)"
            ]
          },
          "metadata": {},
          "execution_count": 695
        }
      ]
    },
    {
      "cell_type": "code",
      "source": [
        "pet_not_null = pd.DataFrame(petroleo.groupby('country').sum()[['Cons_Petroleo','Prod_Petroleo']]).reset_index()\n",
        "\n",
        "top = pet_not_null[pet_not_null.country.isin(['United States', 'China', 'USSR', 'Russia', 'India', 'Canada',\n",
        "       'Italy', 'United Kingdom', 'Saudi Arabia', 'Brazil'])]\n",
        "\n",
        "out_top = pet_not_null[ ~ pet_not_null.country.isin(['United States', 'China', 'USSR', 'Russia', 'India', 'Canada',\n",
        "       'Italy', 'United Kingdom', 'Saudi Arabia', 'Brazil'])]\n",
        "\n",
        "x_top = top.Cons_Petroleo\n",
        "x_out_top = out_top.Cons_Petroleo\n",
        "\n",
        "y_top = top.Prod_Petroleo\n",
        "y_out_top = out_top.Prod_Petroleo\n",
        "\n",
        "fig, ax = plt.subplots(figsize=(6,4))\n",
        "\n",
        "ax.set_title('Dispersão Produção x Consumo', fontsize=14, weight='bold')\n",
        "ax.set_xlabel('Consumo')\n",
        "ax.set_ylabel('Produção')\n",
        "\n",
        "sns.scatterplot(x=x_top, y=y_top, label = 'Top 10 consumidores')\n",
        "sns.scatterplot(x=x_out_top, y=y_out_top, label = 'demais paises', color = 'orange')\n",
        "\n",
        "plt.show()"
      ],
      "metadata": {
        "colab": {
          "base_uri": "https://localhost:8080/",
          "height": 296
        },
        "id": "vnHsgf-VVfsg",
        "outputId": "cce89b45-6949-455d-a530-c2548992742a"
      },
      "execution_count": null,
      "outputs": [
        {
          "output_type": "display_data",
          "data": {
            "text/plain": [
              "<Figure size 432x288 with 1 Axes>"
            ],
            "image/png": "[encoded data removed]"
          },
          "metadata": {
            "needs_background": "light"
          }
        }
      ]
    },
    {
      "cell_type": "markdown",
      "source": [
        "Conclusão: Através da disperção notamos que os paises em geral estão em um equilibrio entre a produção e o consumo, tendendo a produzir mais do que consome, levando em consideração que retiramos os países, mandento somente os que possuíam valores de produção e consumo."
      ],
      "metadata": {
        "id": "5uCLMVXT9lJK"
      }
    },
    {
      "cell_type": "markdown",
      "source": [
        "##Qual a evolução do Maior consumidor e sua produção comparado ao seu antecesor de produção?"
      ],
      "metadata": {
        "id": "kPLqUQ5e-9vy"
      }
    },
    {
      "cell_type": "code",
      "source": [
        "pet_not_na = petroleo\n",
        "#pet_not_na = pet_not_na[pet_not_na.Cons_Petroleo > 100000000]\n",
        "petroleo_norm = ( pet_not_na.drop(columns=['country','Ano']) - pet_not_na.drop(columns=['country','Ano']).mean() ) / pet_not_na.drop(columns=['country','Ano']).std()\n",
        "petroleo_norm = pd.concat([pet_not_na[['country','Ano']], petroleo_norm],axis=1)\n",
        "petroleo_norm.head()"
      ],
      "metadata": {
        "colab": {
          "base_uri": "https://localhost:8080/",
          "height": 206
        },
        "id": "g-QHG6M3M5nz",
        "outputId": "948dcbb3-de68-4386-ec60-3360c493b09e"
      },
      "execution_count": null,
      "outputs": [
        {
          "output_type": "execute_result",
          "data": {
            "text/plain": [
              "                country   Ano  Prod_Petroleo  Cons_Petroleo\n",
              "1  United Arab Emirates  1964      -0.593592      -0.441565\n",
              "2             Argentina  1964      -0.592799      -0.289440\n",
              "3             Australia  1964      -0.699492      -0.337303\n",
              "5                Brazil  1964      -0.662189      -0.339384\n",
              "7                Canada  1964      -0.354099      -0.068853"
            ],
            "text/html": [
              "\n",
              "  <div id=\"df-a9b321a1-e164-491b-9346-839643c5ce68\">\n",
              "    <div class=\"colab-df-container\">\n",
              "      <div>\n",
              "<style scoped>\n",
              "    .dataframe tbody tr th:only-of-type {\n",
              "        vertical-align: middle;\n",
              "    }\n",
              "\n",
              "    .dataframe tbody tr th {\n",
              "        vertical-align: top;\n",
              "    }\n",
              "\n",
              "    .dataframe thead th {\n",
              "        text-align: right;\n",
              "    }\n",
              "</style>\n",
              "<table border=\"1\" class=\"dataframe\">\n",
              "  <thead>\n",
              "    <tr style=\"text-align: right;\">\n",
              "      <th></th>\n",
              "      <th>country</th>\n",
              "      <th>Ano</th>\n",
              "      <th>Prod_Petroleo</th>\n",
              "      <th>Cons_Petroleo</th>\n",
              "    </tr>\n",
              "  </thead>\n",
              "  <tbody>\n",
              "    <tr>\n",
              "      <th>1</th>\n",
              "      <td>United Arab Emirates</td>\n",
              "      <td>1964</td>\n",
              "      <td>-0.593592</td>\n",
              "      <td>-0.441565</td>\n",
              "    </tr>\n",
              "    <tr>\n",
              "      <th>2</th>\n",
              "      <td>Argentina</td>\n",
              "      <td>1964</td>\n",
              "      <td>-0.592799</td>\n",
              "      <td>-0.289440</td>\n",
              "    </tr>\n",
              "    <tr>\n",
              "      <th>3</th>\n",
              "      <td>Australia</td>\n",
              "      <td>1964</td>\n",
              "      <td>-0.699492</td>\n",
              "      <td>-0.337303</td>\n",
              "    </tr>\n",
              "    <tr>\n",
              "      <th>5</th>\n",
              "      <td>Brazil</td>\n",
              "      <td>1964</td>\n",
              "      <td>-0.662189</td>\n",
              "      <td>-0.339384</td>\n",
              "    </tr>\n",
              "    <tr>\n",
              "      <th>7</th>\n",
              "      <td>Canada</td>\n",
              "      <td>1964</td>\n",
              "      <td>-0.354099</td>\n",
              "      <td>-0.068853</td>\n",
              "    </tr>\n",
              "  </tbody>\n",
              "</table>\n",
              "</div>\n",
              "      <button class=\"colab-df-convert\" onclick=\"convertToInteractive('df-a9b321a1-e164-491b-9346-839643c5ce68')\"\n",
              "              title=\"Convert this dataframe to an interactive table.\"\n",
              "              style=\"display:none;\">\n",
              "        \n",
              "  <svg xmlns=\"http://www.w3.org/2000/svg\" height=\"24px\"viewBox=\"0 0 24 24\"\n",
              "       width=\"24px\">\n",
              "    <path d=\"M0 0h24v24H0V0z\" fill=\"none\"/>\n",
              "    <path d=\"M18.56 5.44l.94 2.06.94-2.06 2.06-.94-2.06-.94-.94-2.06-.94 2.06-2.06.94zm-11 1L8.5 8.5l.94-2.06 2.06-.94-2.06-.94L8.5 2.5l-.94 2.06-2.06.94zm10 10l.94 2.06.94-2.06 2.06-.94-2.06-.94-.94-2.06-.94 2.06-2.06.94z\"/><path d=\"M17.41 7.96l-1.37-1.37c-.4-.4-.92-.59-1.43-.59-.52 0-1.04.2-1.43.59L10.3 9.45l-7.72 7.72c-.78.78-.78 2.05 0 2.83L4 21.41c.39.39.9.59 1.41.59.51 0 1.02-.2 1.41-.59l7.78-7.78 2.81-2.81c.8-.78.8-2.07 0-2.86zM5.41 20L4 18.59l7.72-7.72 1.47 1.35L5.41 20z\"/>\n",
              "  </svg>\n",
              "      </button>\n",
              "      \n",
              "  <style>\n",
              "    .colab-df-container {\n",
              "      display:flex;\n",
              "      flex-wrap:wrap;\n",
              "      gap: 12px;\n",
              "    }\n",
              "\n",
              "    .colab-df-convert {\n",
              "      background-color: #E8F0FE;\n",
              "      border: none;\n",
              "      border-radius: 50%;\n",
              "      cursor: pointer;\n",
              "      display: none;\n",
              "      fill: #1967D2;\n",
              "      height: 32px;\n",
              "      padding: 0 0 0 0;\n",
              "      width: 32px;\n",
              "    }\n",
              "\n",
              "    .colab-df-convert:hover {\n",
              "      background-color: #E2EBFA;\n",
              "      box-shadow: 0px 1px 2px rgba(60, 64, 67, 0.3), 0px 1px 3px 1px rgba(60, 64, 67, 0.15);\n",
              "      fill: #174EA6;\n",
              "    }\n",
              "\n",
              "    [theme=dark] .colab-df-convert {\n",
              "      background-color: #3B4455;\n",
              "      fill: #D2E3FC;\n",
              "    }\n",
              "\n",
              "    [theme=dark] .colab-df-convert:hover {\n",
              "      background-color: #434B5C;\n",
              "      box-shadow: 0px 1px 3px 1px rgba(0, 0, 0, 0.15);\n",
              "      filter: drop-shadow(0px 1px 2px rgba(0, 0, 0, 0.3));\n",
              "      fill: #FFFFFF;\n",
              "    }\n",
              "  </style>\n",
              "\n",
              "      <script>\n",
              "        const buttonEl =\n",
              "          document.querySelector('#df-a9b321a1-e164-491b-9346-839643c5ce68 button.colab-df-convert');\n",
              "        buttonEl.style.display =\n",
              "          google.colab.kernel.accessAllowed ? 'block' : 'none';\n",
              "\n",
              "        async function convertToInteractive(key) {\n",
              "          const element = document.querySelector('#df-a9b321a1-e164-491b-9346-839643c5ce68');\n",
              "          const dataTable =\n",
              "            await google.colab.kernel.invokeFunction('convertToInteractive',\n",
              "                                                     [key], {});\n",
              "          if (!dataTable) return;\n",
              "\n",
              "          const docLinkHtml = 'Like what you see? Visit the ' +\n",
              "            '<a target=\"_blank\" href=https://colab.research.google.com/notebooks/data_table.ipynb>data table notebook</a>'\n",
              "            + ' to learn more about interactive tables.';\n",
              "          element.innerHTML = '';\n",
              "          dataTable['output_type'] = 'display_data';\n",
              "          await google.colab.output.renderOutput(dataTable, element);\n",
              "          const docLink = document.createElement('div');\n",
              "          docLink.innerHTML = docLinkHtml;\n",
              "          element.appendChild(docLink);\n",
              "        }\n",
              "      </script>\n",
              "    </div>\n",
              "  </div>\n",
              "  "
            ]
          },
          "metadata": {},
          "execution_count": 697
        }
      ]
    },
    {
      "cell_type": "code",
      "source": [
        "pet_nona = petroleo_norm\n",
        "\n",
        "US = pet_nona[pet_nona.country == 'United States']\n",
        "SA = pet_nona[pet_nona.country == 'Saudi Arabia']\n",
        "\n",
        "fig, ax = plt.subplots(figsize=(14,6))\n",
        "\n",
        "ax.set_title('Evolução de consumo x produção US e Arabia Saudita', fontsize=14, weight='bold')\n",
        "ax.set_xlabel(\"Ano\")\n",
        "ax.set_ylabel(\"Tendência dos Valores\")\n",
        "\n",
        "ax.plot(US.Ano, US.Cons_Petroleo, 'b', label='US consumo')\n",
        "ax.plot(US.Ano, US.Prod_Petroleo, ':b', label='US produção', alpha=0.7)\n",
        "ax.plot(SA.Ano, SA.Cons_Petroleo, 'g', label='SA consumo')\n",
        "ax.plot(SA.Ano, SA.Prod_Petroleo, ':g', label='SA produção', alpha=0.7)\n",
        "\n",
        "ax.legend(fontsize=12)\n",
        "ax.xaxis.set_major_locator(ticker.MaxNLocator(8))\n",
        "\n",
        "plt.show()"
      ],
      "metadata": {
        "colab": {
          "base_uri": "https://localhost:8080/",
          "height": 405
        },
        "id": "22DTYIHlhirW",
        "outputId": "1832b182-a46a-42e3-be94-f525095a03d3"
      },
      "execution_count": null,
      "outputs": [
        {
          "output_type": "display_data",
          "data": {
            "text/plain": [
              "<Figure size 1008x432 with 1 Axes>"
            ],
            "image/png": "[encoded data removed]"
          },
          "metadata": {
            "needs_background": "light"
          }
        }
      ]
    },
    {
      "cell_type": "markdown",
      "source": [
        "Conclusão: O que fica bem evidente é a busca do equilibrio do consumo x produção quando olhamos para o maior consumidor de petróleo. Chegando próximo de uma relação 1:1 entre elas."
      ],
      "metadata": {
        "id": "w96WTW4m_XAb"
      }
    }
  ]
}